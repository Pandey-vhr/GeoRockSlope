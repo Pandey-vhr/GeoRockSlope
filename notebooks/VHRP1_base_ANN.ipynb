{
 "cells": [
  {
   "cell_type": "code",
   "execution_count": 8,
   "id": "a8485c62-48dd-4c31-bad7-862166801938",
   "metadata": {},
   "outputs": [
    {
     "name": "stdout",
     "output_type": "stream",
     "text": [
      "\n",
      "📊 ANN Evaluation for FoS with Architecture (64, 32, 16) and LR = 0.001\n",
      "R² (Train): 0.968497\n",
      "R² (Test):  0.918675\n",
      "RMSE (Train): 0.204658\n",
      "RMSE (Test):  0.362793\n",
      "MAE (Train): 0.130767\n",
      "MAE (Test):  0.225474\n",
      "MSE (Train): 0.041885\n",
      "MSE (Test):  0.131619\n"
     ]
    },
    {
     "ename": "ValueError",
     "evalue": "Mime type rendering requires nbformat>=4.2.0 but it is not installed",
     "output_type": "error",
     "traceback": [
      "\u001b[31m---------------------------------------------------------------------------\u001b[39m",
      "\u001b[31mValueError\u001b[39m                                Traceback (most recent call last)",
      "\u001b[36mCell\u001b[39m\u001b[36m \u001b[39m\u001b[32mIn[8]\u001b[39m\u001b[32m, line 120\u001b[39m\n\u001b[32m    118\u001b[39m fig1.update_layout(title_text=\u001b[33m\"\u001b[39m\u001b[33mActual vs Predicted - FoS ANN Model\u001b[39m\u001b[33m\"\u001b[39m, height=\u001b[32m500\u001b[39m, width=\u001b[32m1000\u001b[39m)\n\u001b[32m    119\u001b[39m fig1.write_html(os.path.join(output_dir, \u001b[33m\"\u001b[39m\u001b[33mfos_actual_vs_predicted.html\u001b[39m\u001b[33m\"\u001b[39m))\n\u001b[32m--> \u001b[39m\u001b[32m120\u001b[39m \u001b[43mfig1\u001b[49m\u001b[43m.\u001b[49m\u001b[43mshow\u001b[49m\u001b[43m(\u001b[49m\u001b[43m)\u001b[49m\n\u001b[32m    122\u001b[39m \u001b[38;5;66;03m# === Plot 2: Bar Chart Comparison of Metrics\u001b[39;00m\n\u001b[32m    123\u001b[39m fig2 = go.Figure()\n",
      "\u001b[36mFile \u001b[39m\u001b[32m~/ABC_ANN_FoS/.venv/lib/python3.13/site-packages/plotly/basedatatypes.py:3420\u001b[39m, in \u001b[36mBaseFigure.show\u001b[39m\u001b[34m(self, *args, **kwargs)\u001b[39m\n\u001b[32m   3387\u001b[39m \u001b[38;5;250m\u001b[39m\u001b[33;03m\"\"\"\u001b[39;00m\n\u001b[32m   3388\u001b[39m \u001b[33;03mShow a figure using either the default renderer(s) or the renderer(s)\u001b[39;00m\n\u001b[32m   3389\u001b[39m \u001b[33;03mspecified by the renderer argument\u001b[39;00m\n\u001b[32m   (...)\u001b[39m\u001b[32m   3416\u001b[39m \u001b[33;03mNone\u001b[39;00m\n\u001b[32m   3417\u001b[39m \u001b[33;03m\"\"\"\u001b[39;00m\n\u001b[32m   3418\u001b[39m \u001b[38;5;28;01mimport\u001b[39;00m\u001b[38;5;250m \u001b[39m\u001b[34;01mplotly\u001b[39;00m\u001b[34;01m.\u001b[39;00m\u001b[34;01mio\u001b[39;00m\u001b[38;5;250m \u001b[39m\u001b[38;5;28;01mas\u001b[39;00m\u001b[38;5;250m \u001b[39m\u001b[34;01mpio\u001b[39;00m\n\u001b[32m-> \u001b[39m\u001b[32m3420\u001b[39m \u001b[38;5;28;01mreturn\u001b[39;00m \u001b[43mpio\u001b[49m\u001b[43m.\u001b[49m\u001b[43mshow\u001b[49m\u001b[43m(\u001b[49m\u001b[38;5;28;43mself\u001b[39;49m\u001b[43m,\u001b[49m\u001b[43m \u001b[49m\u001b[43m*\u001b[49m\u001b[43margs\u001b[49m\u001b[43m,\u001b[49m\u001b[43m \u001b[49m\u001b[43m*\u001b[49m\u001b[43m*\u001b[49m\u001b[43mkwargs\u001b[49m\u001b[43m)\u001b[49m\n",
      "\u001b[36mFile \u001b[39m\u001b[32m~/ABC_ANN_FoS/.venv/lib/python3.13/site-packages/plotly/io/_renderers.py:415\u001b[39m, in \u001b[36mshow\u001b[39m\u001b[34m(fig, renderer, validate, **kwargs)\u001b[39m\n\u001b[32m    410\u001b[39m     \u001b[38;5;28;01mraise\u001b[39;00m \u001b[38;5;167;01mValueError\u001b[39;00m(\n\u001b[32m    411\u001b[39m         \u001b[33m\"\u001b[39m\u001b[33mMime type rendering requires ipython but it is not installed\u001b[39m\u001b[33m\"\u001b[39m\n\u001b[32m    412\u001b[39m     )\n\u001b[32m    414\u001b[39m \u001b[38;5;28;01mif\u001b[39;00m \u001b[38;5;129;01mnot\u001b[39;00m nbformat \u001b[38;5;129;01mor\u001b[39;00m Version(nbformat.__version__) < Version(\u001b[33m\"\u001b[39m\u001b[33m4.2.0\u001b[39m\u001b[33m\"\u001b[39m):\n\u001b[32m--> \u001b[39m\u001b[32m415\u001b[39m     \u001b[38;5;28;01mraise\u001b[39;00m \u001b[38;5;167;01mValueError\u001b[39;00m(\n\u001b[32m    416\u001b[39m         \u001b[33m\"\u001b[39m\u001b[33mMime type rendering requires nbformat>=4.2.0 but it is not installed\u001b[39m\u001b[33m\"\u001b[39m\n\u001b[32m    417\u001b[39m     )\n\u001b[32m    419\u001b[39m display_jupyter_version_warnings()\n\u001b[32m    421\u001b[39m ipython_display.display(bundle, raw=\u001b[38;5;28;01mTrue\u001b[39;00m)\n",
      "\u001b[31mValueError\u001b[39m: Mime type rendering requires nbformat>=4.2.0 but it is not installed"
     ]
    }
   ],
   "source": [
    "#FoS\n",
    "import os\n",
    "import pandas as pd\n",
    "import numpy as np\n",
    "import torch\n",
    "import torch.nn as nn\n",
    "import random\n",
    "from torch.utils.data import DataLoader, TensorDataset\n",
    "from sklearn.model_selection import train_test_split\n",
    "from sklearn.preprocessing import StandardScaler\n",
    "from sklearn.metrics import r2_score, mean_squared_error, mean_absolute_error, root_mean_squared_error\n",
    "import plotly.graph_objs as go\n",
    "from plotly.subplots import make_subplots\n",
    "\n",
    "# === Save Directory for Plots\n",
    "output_dir = r\"output\"\n",
    "os.makedirs(output_dir, exist_ok=True)\n",
    "\n",
    "# === Set random seed for reproducibility\n",
    "def set_seed(seed=42):\n",
    "    random.seed(seed)\n",
    "    np.random.seed(seed)\n",
    "    torch.manual_seed(seed)\n",
    "    torch.backends.cudnn.deterministic = True\n",
    "    torch.backends.cudnn.benchmark = False\n",
    "\n",
    "set_seed(42)\n",
    "\n",
    "# === Load and preprocess dataset\n",
    "df = pd.read_csv(r\"resources/data.csv\")\n",
    "X = df.drop(columns=[\"FoS\", \"SeismicFoS\"]).values\n",
    "y = df[\"FoS\"].values  # ✅ Switched back to FoS\n",
    "\n",
    "# Train-test split\n",
    "X_train, X_test, y_train, y_test = train_test_split(X, y, test_size=0.2, random_state=42)\n",
    "scaler = StandardScaler()\n",
    "X_train = scaler.fit_transform(X_train)\n",
    "X_test = scaler.transform(X_test)\n",
    "\n",
    "# Convert to PyTorch tensors\n",
    "X_train_tensor = torch.tensor(X_train, dtype=torch.float32)\n",
    "y_train_tensor = torch.tensor(y_train, dtype=torch.float32).view(-1, 1)\n",
    "X_test_tensor = torch.tensor(X_test, dtype=torch.float32)\n",
    "y_test_tensor = torch.tensor(y_test, dtype=torch.float32).view(-1, 1)\n",
    "\n",
    "train_dataset = TensorDataset(X_train_tensor, y_train_tensor)\n",
    "train_loader = DataLoader(train_dataset, batch_size=32, shuffle=True)\n",
    "\n",
    "# === Define the ANN Model\n",
    "class ANN(nn.Module):\n",
    "    def __init__(self, input_dim, h1, h2, h3):\n",
    "        super(ANN, self).__init__()\n",
    "        self.model = nn.Sequential(\n",
    "            nn.Linear(input_dim, h1), nn.ReLU(),\n",
    "            nn.Linear(h1, h2), nn.ReLU(),\n",
    "            nn.Linear(h2, h3), nn.ReLU(),\n",
    "            nn.Linear(h3, 1)\n",
    "        )\n",
    "    def forward(self, x):\n",
    "        return self.model(x)\n",
    "\n",
    "# === Evaluation Function\n",
    "def evaluate_model(h1, h2, h3, lr):\n",
    "    model = ANN(X_train.shape[1], h1, h2, h3)\n",
    "    criterion = nn.MSELoss()\n",
    "    optimizer = torch.optim.Adam(model.parameters(), lr=lr)\n",
    "\n",
    "    # Training\n",
    "    for epoch in range(100):\n",
    "        model.train()\n",
    "        for xb, yb in train_loader:\n",
    "            optimizer.zero_grad()\n",
    "            pred = model(xb)\n",
    "            loss = criterion(pred, yb)\n",
    "            loss.backward()\n",
    "            optimizer.step()\n",
    "\n",
    "    # Evaluation\n",
    "    model.eval()\n",
    "    with torch.no_grad():\n",
    "        y_train_pred = model(X_train_tensor).numpy()\n",
    "        y_test_pred = model(X_test_tensor).numpy()\n",
    "\n",
    "    return {\n",
    "        \"r2_train\": r2_score(y_train, y_train_pred),\n",
    "        \"r2_test\": r2_score(y_test, y_test_pred),\n",
    "        \"rmse_train\": root_mean_squared_error(y_train, y_train_pred),\n",
    "        \"mse_train\": mean_squared_error(y_train, y_train_pred),\n",
    "        \"mae_train\": mean_absolute_error(y_train, y_train_pred),\n",
    "        \"mse_test\": mean_squared_error(y_test, y_test_pred),\n",
    "        \"mae_test\": mean_absolute_error(y_test, y_test_pred),\n",
    "        \"rmse_test\": root_mean_squared_error(y_test, y_test_pred),\n",
    "        \"y_train_pred\": y_train_pred,\n",
    "        \"y_test_pred\": y_test_pred\n",
    "    }\n",
    "\n",
    "# === Run Evaluation\n",
    "params = (64, 32, 16, 0.001)  # (h1, h2, h3, learning_rate)\n",
    "results = evaluate_model(*params)\n",
    "\n",
    "# === Print Results\n",
    "print(f\"\\n📊 ANN Evaluation for FoS with Architecture {params[:3]} and LR = {params[3]}\")\n",
    "print(f\"R² (Train): {results['r2_train']:.6f}\")\n",
    "print(f\"R² (Test):  {results['r2_test']:.6f}\")\n",
    "print(f\"RMSE (Train): {results['rmse_train']:.6f}\")\n",
    "print(f\"RMSE (Test):  {results['rmse_test']:.6f}\")\n",
    "print(f\"MAE (Train): {results['mae_train']:.6f}\")\n",
    "print(f\"MAE (Test):  {results['mae_test']:.6f}\")\n",
    "print(f\"MSE (Train): {results['mse_train']:.6f}\")\n",
    "print(f\"MSE (Test):  {results['mse_test']:.6f}\")\n",
    "\n",
    "# === Plot 1: Actual vs Predicted (Train & Test)\n",
    "fig1 = make_subplots(rows=1, cols=2, subplot_titles=[\"Train Set\", \"Test Set\"])\n",
    "fig1.add_trace(go.Scatter(y=y_train, mode='lines', name='Actual (Train)'), row=1, col=1)\n",
    "fig1.add_trace(go.Scatter(y=results[\"y_train_pred\"].flatten(), mode='lines', name='Predicted (Train)'), row=1, col=1)\n",
    "fig1.add_trace(go.Scatter(y=y_test, mode='lines', name='Actual (Test)'), row=1, col=2)\n",
    "fig1.add_trace(go.Scatter(y=results[\"y_test_pred\"].flatten(), mode='lines', name='Predicted (Test)'), row=1, col=2)\n",
    "fig1.update_layout(title_text=\"Actual vs Predicted - FoS ANN Model\", height=500, width=1000)\n",
    "fig1.write_html(os.path.join(output_dir, \"fos_actual_vs_predicted.html\"))\n",
    "fig1.show()\n",
    "\n",
    "# === Plot 2: Bar Chart Comparison of Metrics\n",
    "fig2 = go.Figure()\n",
    "fig2.add_trace(go.Bar(name='Train', x=['R²', 'RMSE', 'MAE'],\n",
    "                      y=[results[\"r2_train\"], results[\"rmse_train\"], results[\"mae_train\"]]))\n",
    "fig2.add_trace(go.Bar(name='Test', x=['R²', 'RMSE', 'MAE'],\n",
    "                      y=[results[\"r2_test\"], results[\"rmse_test\"], results[\"mae_test\"]]))\n",
    "fig2.update_layout(barmode='group', title=\"Performance Metrics (Train vs Test) - FoS\", height=400, width=800)\n",
    "fig2.write_html(os.path.join(output_dir, \"fos_metrics_comparison.html\"))\n",
    "fig2.show()\n"
   ]
  },
  {
   "cell_type": "code",
   "execution_count": 1,
   "id": "eb398e39-3e64-4e01-8c59-c252d6acba93",
   "metadata": {},
   "outputs": [
    {
     "name": "stdout",
     "output_type": "stream",
     "text": [
      "\n",
      "📊 ANN Evaluation for SeismicFoS with Architecture (64, 32, 16) and LR = 0.001\n",
      "R² (Train): 0.944597\n",
      "R² (Test):  0.773463\n",
      "RMSE (Train): 0.205567\n",
      "RMSE (Test):  0.446890\n",
      "MAE (Train): 0.131247\n",
      "MAE (Test):  0.271266\n"
     ]
    },
    {
     "data": {
      "application/vnd.plotly.v1+json": {
       "config": {
        "plotlyServerURL": "https://plot.ly"
       },
       "data": [
        {
         "mode": "lines",
         "name": "Actual (Train)",
         "type": "scatter",
         "xaxis": "x",
         "y": {
          "_inputArray": {
           "0": 0.86,
           "1": 2.9,
           "2": 0.88,
           "3": 1.19,
           "4": 1.37,
           "5": 1.37,
           "6": 1.22,
           "7": 1.46,
           "8": 1.42,
           "9": 1.22,
           "10": 1.72,
           "11": 0.91,
           "12": 1.2,
           "13": 1.76,
           "14": 0.86,
           "15": 1.83,
           "16": 0.96,
           "17": 1.49,
           "18": 1.9,
           "19": 0.9,
           "20": 2.99,
           "21": 0.91,
           "22": 0.81,
           "23": 0.95,
           "24": 3.31,
           "25": 1.25,
           "26": 0.995,
           "27": 1.6,
           "28": 0.96,
           "29": 0.95,
           "30": 0.81,
           "31": 0.87,
           "32": 1.95,
           "33": 2.21,
           "34": 2.4,
           "35": 3.88,
           "36": 3.44,
           "37": 0.91,
           "38": 0.88,
           "39": 0.85,
           "40": 0.98,
           "41": 1.4,
           "42": 1.57,
           "43": 2.29,
           "44": 0.83,
           "45": 0.85,
           "46": 0.87,
           "47": 2.97,
           "48": 0.92,
           "49": 1.99,
           "50": 4.67,
           "51": 1.2,
           "52": 2,
           "53": 0.94,
           "54": 1.67,
           "55": 1.29,
           "56": 1.98,
           "57": 1.58,
           "58": 0.96,
           "59": 0.86,
           "60": 0.89,
           "61": 1.37,
           "62": 2.2,
           "63": 2.2,
           "64": 2.14,
           "65": 0.99,
           "66": 2.18,
           "67": 4.09,
           "68": 1.75,
           "69": 2.43,
           "70": 0.89,
           "71": 1.1,
           "72": 1.8,
           "73": 1.49,
           "74": 1.51,
           "75": 1.65,
           "76": 0.84,
           "77": 1.29,
           "78": 0.93,
           "79": 2.42,
           "80": 0.95,
           "81": 2.73,
           "82": 1.67,
           "83": 1.34,
           "84": 0.84,
           "85": 1.76,
           "86": 2.14,
           "87": 0.87,
           "88": 2.06,
           "89": 1.99,
           "90": 1.59,
           "91": 0.94,
           "92": 2.2,
           "93": 0.99,
           "94": 1.2,
           "95": 0.95,
           "96": 1.74,
           "97": 0.81,
           "98": 0.92,
           "99": 0.99,
           "100": 2.11,
           "101": 4.16,
           "102": 2.81,
           "103": 0.55,
           "104": 1.26,
           "105": 1.76,
           "106": 1.46,
           "107": 1.66,
           "108": 0.92,
           "109": 1.63,
           "110": 1.9,
           "111": 0.86,
           "112": 0.92,
           "113": 1.02,
           "114": 1.29,
           "115": 0.97,
           "116": 1.82,
           "117": 0.95,
           "118": 1.24,
           "119": 0.92,
           "120": 0.88,
           "121": 2.7,
           "122": 1.9,
           "123": 3.2,
           "124": 0.87,
           "125": 2.19,
           "126": 0.88,
           "127": 0.95,
           "128": 1.5,
           "129": 0.86,
           "130": 1.4,
           "131": 1.38,
           "132": 2.15,
           "133": 0.73,
           "134": 2.77,
           "135": 2.9,
           "136": 1.95,
           "137": 0.97,
           "138": 0.68,
           "139": 1.78,
           "140": 0.99,
           "141": 0.87,
           "142": 1.39,
           "143": 1.4,
           "144": 0.9,
           "145": 1.02,
           "146": 1.87,
           "147": 0.89,
           "148": 1.59,
           "149": 1.79,
           "150": 1.9,
           "151": 1.36,
           "152": 0.97,
           "153": 2.83,
           "154": 0.9,
           "155": 1.1,
           "156": 1.29,
           "157": 1.7,
           "158": 2.11,
           "159": 1.17,
           "160": 1.36,
           "161": 2.38,
           "162": 0.95,
           "163": 1.58,
           "164": 0.97,
           "165": 0.89,
           "166": 2.7,
           "167": 2.29,
           "168": 0.85,
           "169": 0.95,
           "170": 0.95,
           "171": 1.65,
           "172": 1.37,
           "173": 2,
           "174": 0.89,
           "175": 1.57,
           "176": 1.7,
           "177": 1.74,
           "178": 1.22,
           "179": 3.43,
           "180": 0.86,
           "181": 1.57,
           "182": 1.46,
           "183": 0.86,
           "184": 0.92,
           "185": 2.37,
           "186": 1.29,
           "187": 1.66,
           "188": 1.9,
           "189": 1.1,
           "190": 1.11,
           "191": 1.61,
           "192": 2.58,
           "193": 0.96,
           "194": 1.84,
           "195": 1.66,
           "196": 1.32,
           "197": 1.14,
           "198": 1.61,
           "199": 0.69,
           "200": 0.85,
           "201": 0.93,
           "202": 1.5,
           "203": 1.77,
           "204": 1.37,
           "205": 3.2,
           "206": 0.89,
           "207": 1.3,
           "208": 0.88,
           "209": 0.68,
           "210": 1.77,
           "211": 2.43,
           "212": 0.95,
           "213": 0.94,
           "214": 1.46,
           "215": 0.88,
           "216": 1.69,
           "217": 1.9,
           "218": 1.29,
           "219": 0.87,
           "220": 0.91,
           "221": 0.49,
           "222": 0.87,
           "223": 1.78,
           "224": 0.9,
           "225": 1.65,
           "226": 1.5,
           "227": 0.84,
           "228": 1.32,
           "229": 0.9,
           "230": 3.8,
           "231": 0.9,
           "232": 1.57,
           "233": 0.91,
           "234": 0.98,
           "235": 0.7,
           "236": 1.44,
           "237": 3.58,
           "238": 2.7,
           "239": 1.86,
           "240": 0.94,
           "241": 3.57,
           "242": 5.52,
           "243": 0.99,
           "244": 2.4,
           "245": 1.63,
           "246": 0.86,
           "247": 0.85,
           "248": 2.55,
           "249": 0.97,
           "250": 0.93,
           "251": 1.32,
           "252": 0.69,
           "253": 1.1,
           "254": 2.58,
           "255": 1.47,
           "256": 2.18,
           "257": 1.57,
           "258": 1.34,
           "259": 1.26,
           "260": 3.65,
           "261": 1.96,
           "262": 1.54,
           "263": 0.96,
           "264": 1.45,
           "265": 2.11,
           "266": 1.59,
           "267": 0.95,
           "268": 1.62,
           "269": 2.45,
           "270": 1.37,
           "271": 0.87,
           "272": 0.87,
           "273": 2.07,
           "274": 1.1,
           "275": 3.24,
           "276": 2.67,
           "277": 0.94,
           "278": 2.15,
           "279": 1.35,
           "280": 0.92,
           "281": 0.97,
           "282": 0.98,
           "283": 2.09,
           "284": 0.9,
           "285": 4.8,
           "286": 1.59,
           "287": 1.04,
           "288": 1.98,
           "289": 5.28,
           "290": 2.2,
           "291": 0.99,
           "292": 2.11,
           "293": 0.92,
           "294": 1.63,
           "295": 0.92,
           "296": 0.9,
           "297": 3,
           "298": 0.95,
           "299": 1.89,
           "300": 1.51,
           "301": 0.9,
           "302": 1.55,
           "303": 1.5,
           "304": 0.88,
           "305": 1.8,
           "306": 1.46,
           "307": 0.91,
           "308": 0.93,
           "309": 0.94,
           "310": 4.24,
           "311": 0.91,
           "312": 1.87,
           "313": 2,
           "314": 8,
           "315": 0.79,
           "316": 2.04,
           "317": 0.88,
           "318": 0.94,
           "319": 0.91,
           "320": 0.83,
           "321": 0.94,
           "322": 0.84,
           "323": 1.36,
           "324": 3.1,
           "325": 1.86,
           "326": 0.91,
           "327": 0.93,
           "328": 0.995,
           "329": 1.99,
           "330": 0.92,
           "331": 0.86,
           "332": 0.69,
           "333": 1.35,
           "334": 2,
           "335": 1.18,
           "336": 1.32,
           "337": 0.96,
           "338": 2.79,
           "339": 0.62,
           "340": 0.62,
           "341": 0.94,
           "342": 2.8,
           "343": 2,
           "344": 1.92,
           "345": 0.9,
           "346": 0.85,
           "347": 0.73,
           "348": 0.91,
           "349": 0.95,
           "350": 1.04,
           "351": 0.57,
           "352": 2.4,
           "353": 1.19,
           "354": 0.88,
           "355": 0.93,
           "356": 2.69,
           "357": 0.9,
           "358": 0.69,
           "359": 1.79,
           "360": 1.85,
           "361": 0.99,
           "362": 1.73,
           "363": 0.88,
           "364": 2.37,
           "365": 0.95,
           "366": 1.38,
           "367": 3.65,
           "368": 2.01,
           "369": 1.79,
           "370": 0.94,
           "371": 1.54,
           "372": 0.9,
           "373": 2.21,
           "374": 1.62,
           "375": 0.98,
           "376": 1.29,
           "377": 0.67,
           "378": 3.76,
           "379": 2.85,
           "380": 2.1,
           "381": 1.59,
           "382": 2.04,
           "383": 1.65,
           "384": 0.91,
           "385": 1.81,
           "386": 2.05,
           "387": 0.92,
           "388": 2.27,
           "389": 0.94,
           "390": 4.19,
           "391": 0.95,
           "392": 1.44,
           "393": 0.87,
           "394": 1.34,
           "bdata": "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",
           "dtype": "f8",
           "shape": "395"
          },
          "bdata": "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",
          "dtype": "f8"
         },
         "yaxis": "y"
        },
        {
         "mode": "lines",
         "name": "Predicted (Train)",
         "type": "scatter",
         "xaxis": "x",
         "y": {
          "_inputArray": {
           "0": 0.860736608505249,
           "1": 2.824071168899536,
           "2": 0.921328067779541,
           "3": 1.3277148008346558,
           "4": 1.5062735080718994,
           "5": 1.3255141973495483,
           "6": 1.1632872819900513,
           "7": 1.5686805248260498,
           "8": 1.547291874885559,
           "9": 1.2792423963546753,
           "10": 1.8622323274612427,
           "11": 0.8631802201271057,
           "12": 1.2946468591690063,
           "13": 2.610926866531372,
           "14": 0.8545254468917847,
           "15": 1.8310626745224,
           "16": 1.0688433647155762,
           "17": 1.490168571472168,
           "18": 1.8967840671539307,
           "19": 0.9341409206390381,
           "20": 2.6894211769104004,
           "21": 0.8021752238273621,
           "22": 0.9749271869659424,
           "23": 0.9546254873275757,
           "24": 2.958322763442993,
           "25": 1.1030360460281372,
           "26": 1.1467787027359009,
           "27": 1.4009346961975098,
           "28": 0.9733598232269287,
           "29": 0.9031293392181396,
           "30": 0.7413223385810852,
           "31": 0.8314924836158752,
           "32": 2.033339023590088,
           "33": 2.556304693222046,
           "34": 2.4308598041534424,
           "35": 3.881392478942871,
           "36": 3.410336971282959,
           "37": 0.9130885601043701,
           "38": 0.9615299701690674,
           "39": 0.8565716743469238,
           "40": 1.1610822677612305,
           "41": 1.1413755416870117,
           "42": 1.5874449014663696,
           "43": 2.1955010890960693,
           "44": 0.7526626586914062,
           "45": 0.750569224357605,
           "46": 0.8464842438697815,
           "47": 3.09755277633667,
           "48": 0.9330300092697144,
           "49": 2.04651141166687,
           "50": 4.790322303771973,
           "51": 1.2416480779647827,
           "52": 1.935515284538269,
           "53": 1.0009145736694336,
           "54": 1.6859818696975708,
           "55": 1.2605682611465454,
           "56": 3.704665184020996,
           "57": 1.5053707361221313,
           "58": 0.9899493455886841,
           "59": 0.8260593414306641,
           "60": 0.9637538194656372,
           "61": 1.3770495653152466,
           "62": 2.0737829208374023,
           "63": 1.9274784326553345,
           "64": 2.348358631134033,
           "65": 1.2388889789581299,
           "66": 2.5328381061553955,
           "67": 3.55967378616333,
           "68": 1.662901520729065,
           "69": 2.591038942337036,
           "70": 0.8581583499908447,
           "71": 1.137650728225708,
           "72": 1.713539719581604,
           "73": 1.679169774055481,
           "74": 1.4529517889022827,
           "75": 2.286571502685547,
           "76": 0.8935425877571106,
           "77": 1.3432081937789917,
           "78": 1.0487326383590698,
           "79": 2.528505802154541,
           "80": 0.9280625581741333,
           "81": 2.9429819583892822,
           "82": 1.5891199111938477,
           "83": 1.4147722721099854,
           "84": 0.9022290110588074,
           "85": 1.888112187385559,
           "86": 2.2257473468780518,
           "87": 0.8581429719924927,
           "88": 2.257490396499634,
           "89": 1.8540045022964478,
           "90": 1.504506230354309,
           "91": 0.9588109254837036,
           "92": 2.3562262058258057,
           "93": 1.086999535560608,
           "94": 1.1189048290252686,
           "95": 1.0925920009613037,
           "96": 1.6046688556671143,
           "97": 0.8394815325737,
           "98": 1.217218279838562,
           "99": 1.245269775390625,
           "100": 1.9362176656723022,
           "101": 3.7770464420318604,
           "102": 2.6122043132781982,
           "103": 0.9688490629196167,
           "104": 1.3089181184768677,
           "105": 1.9727343320846558,
           "106": 1.2707902193069458,
           "107": 1.8292049169540405,
           "108": 1.0147720575332642,
           "109": 1.858568549156189,
           "110": 1.923953890800476,
           "111": 1.0132877826690674,
           "112": 0.9878298044204712,
           "113": 0.9982234239578247,
           "114": 1.2908189296722412,
           "115": 1.0108790397644043,
           "116": 1.7039822340011597,
           "117": 0.9808008670806885,
           "118": 1.736725091934204,
           "119": 1.07455313205719,
           "120": 1.0375598669052124,
           "121": 2.6017906665802,
           "122": 1.8345038890838623,
           "123": 3.2628490924835205,
           "124": 0.8754595518112183,
           "125": 2.146575927734375,
           "126": 0.8434407711029053,
           "127": 0.9646080732345581,
           "128": 1.3420612812042236,
           "129": 1.0885803699493408,
           "130": 1.2141164541244507,
           "131": 1.3153563737869263,
           "132": 2.1606903076171875,
           "133": 0.8526622653007507,
           "134": 2.8894619941711426,
           "135": 2.8539552688598633,
           "136": 1.8510023355484009,
           "137": 0.8602638244628906,
           "138": 0.760721743106842,
           "139": 1.7692493200302124,
           "140": 1.0352213382720947,
           "141": 0.8992021083831787,
           "142": 1.546193242073059,
           "143": 1.3419166803359985,
           "144": 1.0189815759658813,
           "145": 1.0797076225280762,
           "146": 2.059108018875122,
           "147": 0.779371976852417,
           "148": 1.7697219848632812,
           "149": 1.8021697998046875,
           "150": 1.9581793546676636,
           "151": 1.3268755674362183,
           "152": 1.0380799770355225,
           "153": 2.828909158706665,
           "154": 1.1665691137313843,
           "155": 1.4258850812911987,
           "156": 1.5049506425857544,
           "157": 1.6172856092453003,
           "158": 2.146045446395874,
           "159": 1.095703363418579,
           "160": 1.3432724475860596,
           "161": 1.9434188604354858,
           "162": 1.1921755075454712,
           "163": 1.5704232454299927,
           "164": 0.9062157869338989,
           "165": 0.8342501521110535,
           "166": 2.477907180786133,
           "167": 2.193899631500244,
           "168": 1.0095558166503906,
           "169": 1.0242263078689575,
           "170": 0.9444925785064697,
           "171": 1.4582599401474,
           "172": 1.5170974731445312,
           "173": 2.1084351539611816,
           "174": 0.9092986583709717,
           "175": 1.5818809270858765,
           "176": 1.643958330154419,
           "177": 1.963004231452942,
           "178": 1.2390615940093994,
           "179": 3.495126962661743,
           "180": 1.0131086111068726,
           "181": 1.366316318511963,
           "182": 1.574183702468872,
           "183": 0.9167864322662354,
           "184": 0.9074404835700989,
           "185": 2.2570269107818604,
           "186": 1.532490611076355,
           "187": 1.6296567916870117,
           "188": 1.7498996257781982,
           "189": 1.2559149265289307,
           "190": 1.1050724983215332,
           "191": 1.403191089630127,
           "192": 2.679814577102661,
           "193": 0.8177927136421204,
           "194": 2.3560543060302734,
           "195": 1.5565590858459473,
           "196": 1.3218512535095215,
           "197": 1.171159029006958,
           "198": 1.6883810758590698,
           "199": 0.7221834063529968,
           "200": 0.8856647610664368,
           "201": 1.030757188796997,
           "202": 1.5964299440383911,
           "203": 1.799573302268982,
           "204": 1.490330457687378,
           "205": 2.9619925022125244,
           "206": 0.9368034601211548,
           "207": 1.4996918439865112,
           "208": 0.8614380359649658,
           "209": 0.7109109163284302,
           "210": 1.646423578262329,
           "211": 2.3394837379455566,
           "212": 0.9174069166183472,
           "213": 1.068429708480835,
           "214": 1.3394439220428467,
           "215": 0.8237156271934509,
           "216": 1.6259275674819946,
           "217": 2.340906858444214,
           "218": 1.5454331636428833,
           "219": 0.9701884984970093,
           "220": 0.975786566734314,
           "221": 0.6070061922073364,
           "222": 0.8658716678619385,
           "223": 1.8088358640670776,
           "224": 0.7990274429321289,
           "225": 1.8626511096954346,
           "226": 1.598310112953186,
           "227": 0.8033594489097595,
           "228": 1.2137744426727295,
           "229": 0.8895342350006104,
           "230": 3.8906567096710205,
           "231": 0.8400284647941589,
           "232": 1.4758708477020264,
           "233": 1.090212106704712,
           "234": 0.989262580871582,
           "235": 0.6985491514205933,
           "236": 1.4697489738464355,
           "237": 3.6122007369995117,
           "238": 2.6756458282470703,
           "239": 1.6159026622772217,
           "240": 1.0429335832595825,
           "241": 3.439178705215454,
           "242": 5.3185038566589355,
           "243": 0.970680832862854,
           "244": 2.219921827316284,
           "245": 1.661401391029358,
           "246": 0.9518345594406128,
           "247": 0.833471417427063,
           "248": 2.302027463912964,
           "249": 0.9459669589996338,
           "250": 0.9430767297744751,
           "251": 1.4498780965805054,
           "252": 0.8113248348236084,
           "253": 1.2309784889221191,
           "254": 2.942610502243042,
           "255": 1.3036277294158936,
           "256": 2.111342191696167,
           "257": 1.3868181705474854,
           "258": 1.2703474760055542,
           "259": 1.391838550567627,
           "260": 4.093982696533203,
           "261": 2.813493013381958,
           "262": 1.3685994148254395,
           "263": 1.0415005683898926,
           "264": 1.3192511796951294,
           "265": 2.286799192428589,
           "266": 1.5557783842086792,
           "267": 1.1191726922988892,
           "268": 2.07454514503479,
           "269": 2.307143449783325,
           "270": 1.4097880125045776,
           "271": 0.7736591696739197,
           "272": 0.9403542280197144,
           "273": 2.9652791023254395,
           "274": 1.1342977285385132,
           "275": 3.1058225631713867,
           "276": 2.2533676624298096,
           "277": 1.0064430236816406,
           "278": 2.3294920921325684,
           "279": 1.5217907428741455,
           "280": 0.8848974704742432,
           "281": 1.0386159420013428,
           "282": 1.245996356010437,
           "283": 2.0957446098327637,
           "284": 0.7788392305374146,
           "285": 4.632648944854736,
           "286": 1.963173508644104,
           "287": 1.0143237113952637,
           "288": 2.061626672744751,
           "289": 4.86284875869751,
           "290": 2.4052371978759766,
           "291": 1.045103907585144,
           "292": 1.9480963945388794,
           "293": 0.8871914148330688,
           "294": 1.6663496494293213,
           "295": 1.0160751342773438,
           "296": 0.9155184030532837,
           "297": 3.0893032550811768,
           "298": 1.11527419090271,
           "299": 1.7883564233779907,
           "300": 1.5497134923934937,
           "301": 1.0612869262695312,
           "302": 1.6189942359924316,
           "303": 1.2942925691604614,
           "304": 0.9220107793807983,
           "305": 1.756577491760254,
           "306": 1.4474495649337769,
           "307": 1.0839711427688599,
           "308": 0.9216008186340332,
           "309": 0.9801183938980103,
           "310": 3.9026975631713867,
           "311": 0.9929945468902588,
           "312": 1.9835697412490845,
           "313": 1.9985960721969604,
           "314": 7.209848880767822,
           "315": 0.8118956685066223,
           "316": 2.2538444995880127,
           "317": 0.977601170539856,
           "318": 1.1041449308395386,
           "319": 0.8579947352409363,
           "320": 0.8512760400772095,
           "321": 0.937394380569458,
           "322": 0.790444016456604,
           "323": 1.6550101041793823,
           "324": 2.7768073081970215,
           "325": 2.0417733192443848,
           "326": 0.8334677219390869,
           "327": 0.9643123149871826,
           "328": 1.0220074653625488,
           "329": 1.8641818761825562,
           "330": 0.8897372484207153,
           "331": 0.8970627784729004,
           "332": 0.9260447025299072,
           "333": 1.313690185546875,
           "334": 1.8150578737258911,
           "335": 1.0503718852996826,
           "336": 1.2001073360443115,
           "337": 1.1123690605163574,
           "338": 2.4780635833740234,
           "339": 0.799656093120575,
           "340": 0.7375283241271973,
           "341": 1.0161126852035522,
           "342": 2.841352701187134,
           "343": 1.7832962274551392,
           "344": 1.9445418119430542,
           "345": 0.8350211977958679,
           "346": 1.118423581123352,
           "347": 0.7849064469337463,
           "348": 0.8771111965179443,
           "349": 0.8544720411300659,
           "350": 1.1270705461502075,
           "351": 0.7938098311424255,
           "352": 2.587932825088501,
           "353": 1.375959038734436,
           "354": 0.8285490870475769,
           "355": 1.0351340770721436,
           "356": 3.4947121143341064,
           "357": 1.0716031789779663,
           "358": 0.8260982632637024,
           "359": 1.8033069372177124,
           "360": 1.9154480695724487,
           "361": 1.1111583709716797,
           "362": 1.7046902179718018,
           "363": 0.964220404624939,
           "364": 2.6667943000793457,
           "365": 0.9449331760406494,
           "366": 1.1770488023757935,
           "367": 3.7674968242645264,
           "368": 2.258513927459717,
           "369": 1.8629202842712402,
           "370": 0.9908374547958374,
           "371": 1.5018017292022705,
           "372": 0.8669314384460449,
           "373": 2.6905720233917236,
           "374": 1.5205833911895752,
           "375": 1.2106587886810303,
           "376": 1.1293697357177734,
           "377": 0.6941413879394531,
           "378": 3.673654556274414,
           "379": 2.818408727645874,
           "380": 2.780587911605835,
           "381": 1.4496586322784424,
           "382": 2.616800546646118,
           "383": 1.4129326343536377,
           "384": 0.95075523853302,
           "385": 1.890411376953125,
           "386": 2.0498499870300293,
           "387": 0.9145280122756958,
           "388": 1.962013602256775,
           "389": 0.8717379570007324,
           "390": 3.883375644683838,
           "391": 0.9856561422348022,
           "392": 1.5947996377944946,
           "393": 0.8697868585586548,
           "394": 1.4150031805038452,
           "bdata": "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",
           "dtype": "f4",
           "shape": "395"
          },
          "bdata": "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",
          "dtype": "f4"
         },
         "yaxis": "y"
        },
        {
         "mode": "lines",
         "name": "Actual (Test)",
         "type": "scatter",
         "xaxis": "x2",
         "y": {
          "_inputArray": {
           "0": 1.24,
           "1": 1,
           "2": 1.4,
           "3": 1.65,
           "4": 0.89,
           "5": 3.66,
           "6": 1.3,
           "7": 1.16,
           "8": 1.22,
           "9": 0.87,
           "10": 1.02,
           "11": 2.18,
           "12": 0.93,
           "13": 0.89,
           "14": 3.94,
           "15": 1.89,
           "16": 2.79,
           "17": 6.24,
           "18": 2.83,
           "19": 0.6,
           "20": 1.39,
           "21": 0.9,
           "22": 0.49,
           "23": 2.5,
           "24": 1.73,
           "25": 0.86,
           "26": 1.64,
           "27": 1.11,
           "28": 1.54,
           "29": 0.92,
           "30": 1.89,
           "31": 2.13,
           "32": 0.68,
           "33": 1.48,
           "34": 1.78,
           "35": 1.82,
           "36": 3,
           "37": 0.87,
           "38": 1.9,
           "39": 0.95,
           "40": 1.37,
           "41": 1.01,
           "42": 1.94,
           "43": 1.56,
           "44": 0.84,
           "45": 4.94,
           "46": 1.29,
           "47": 1.3,
           "48": 1.79,
           "49": 1.49,
           "50": 0.89,
           "51": 1.52,
           "52": 1.68,
           "53": 1.57,
           "54": 2.1,
           "55": 0.94,
           "56": 0.96,
           "57": 0.97,
           "58": 1.65,
           "59": 0.86,
           "60": 1.89,
           "61": 0.93,
           "62": 1.95,
           "63": 0.93,
           "64": 1.91,
           "65": 1.93,
           "66": 1.9,
           "67": 1.39,
           "68": 2.25,
           "69": 0.97,
           "70": 1.5,
           "71": 0.92,
           "72": 2.65,
           "73": 1.23,
           "74": 0.54,
           "75": 0.96,
           "76": 1.03,
           "77": 2.01,
           "78": 2.16,
           "79": 2,
           "80": 1.4,
           "81": 1.66,
           "82": 2.09,
           "83": 0.89,
           "84": 1.08,
           "85": 3.29,
           "86": 1.73,
           "87": 0.96,
           "88": 1.92,
           "89": 0.94,
           "90": 0.86,
           "91": 1.7,
           "92": 0.89,
           "93": 1,
           "94": 0.88,
           "95": 0.82,
           "96": 0.85,
           "97": 4.87,
           "98": 1.77,
           "bdata": "16NwPQrX8z8AAAAAAADwP2ZmZmZmZvY/ZmZmZmZm+j97FK5H4XrsP0jhehSuRw1AzczMzMzM9D+PwvUoXI/yP4XrUbgehfM/16NwPQrX6z9SuB6F61HwP3E9CtejcAFAw/UoXI/C7T97FK5H4XrsP4XrUbgehQ9APQrXo3A9/j9SuB6F61EGQPYoXI/C9RhApHA9CtejBkAzMzMzMzPjPz0K16NwPfY/zczMzMzM7D9cj8L1KFzfPwAAAAAAAARArkfhehSu+z+F61G4HoXrPz0K16NwPfo/w/UoXI/C8T+kcD0K16P4P3E9CtejcO0/PQrXo3A9/j8K16NwPQoBQMP1KFyPwuU/rkfhehSu9z97FK5H4Xr8Px+F61G4Hv0/AAAAAAAACEDXo3A9CtfrP2ZmZmZmZv4/ZmZmZmZm7j/sUbgehev1Pylcj8L1KPA/CtejcD0K/z/2KFyPwvX4P+F6FK5H4eo/w/UoXI/CE0CkcD0K16P0P83MzMzMzPQ/pHA9Ctej/D/Xo3A9Ctf3P3sUrkfheuw/UrgehetR+D/hehSuR+H6Px+F61G4Hvk/zczMzMzMAEAUrkfhehTuP7gehetRuO4/CtejcD0K7z9mZmZmZmb6P4XrUbgehes/PQrXo3A9/j/D9Shcj8LtPzMzMzMzM/8/w/UoXI/C7T+PwvUoXI/+P+F6FK5H4f4/ZmZmZmZm/j89CtejcD32PwAAAAAAAAJACtejcD0K7z8AAAAAAAD4P3E9CtejcO0/MzMzMzMzBUCuR+F6FK7zP0jhehSuR+E/uB6F61G47j97FK5H4XrwPxSuR+F6FABASOF6FK5HAUAAAAAAAAAAQGZmZmZmZvY/j8L1KFyP+j+4HoXrUbgAQHsUrkfheuw/SOF6FK5H8T9SuB6F61EKQK5H4XoUrvs/uB6F61G47j+4HoXrUbj+PxSuR+F6FO4/hetRuB6F6z8zMzMzMzP7P3sUrkfheuw/AAAAAAAA8D8pXI/C9SjsPz0K16NwPeo/MzMzMzMz6z97FK5H4XoTQFK4HoXrUfw/",
           "dtype": "f8",
           "shape": "99"
          },
          "bdata": "16NwPQrX8z8AAAAAAADwP2ZmZmZmZvY/ZmZmZmZm+j97FK5H4XrsP0jhehSuRw1AzczMzMzM9D+PwvUoXI/yP4XrUbgehfM/16NwPQrX6z9SuB6F61HwP3E9CtejcAFAw/UoXI/C7T97FK5H4XrsP4XrUbgehQ9APQrXo3A9/j9SuB6F61EGQPYoXI/C9RhApHA9CtejBkAzMzMzMzPjPz0K16NwPfY/zczMzMzM7D9cj8L1KFzfPwAAAAAAAARArkfhehSu+z+F61G4HoXrPz0K16NwPfo/w/UoXI/C8T+kcD0K16P4P3E9CtejcO0/PQrXo3A9/j8K16NwPQoBQMP1KFyPwuU/rkfhehSu9z97FK5H4Xr8Px+F61G4Hv0/AAAAAAAACEDXo3A9CtfrP2ZmZmZmZv4/ZmZmZmZm7j/sUbgehev1Pylcj8L1KPA/CtejcD0K/z/2KFyPwvX4P+F6FK5H4eo/w/UoXI/CE0CkcD0K16P0P83MzMzMzPQ/pHA9Ctej/D/Xo3A9Ctf3P3sUrkfheuw/UrgehetR+D/hehSuR+H6Px+F61G4Hvk/zczMzMzMAEAUrkfhehTuP7gehetRuO4/CtejcD0K7z9mZmZmZmb6P4XrUbgehes/PQrXo3A9/j/D9Shcj8LtPzMzMzMzM/8/w/UoXI/C7T+PwvUoXI/+P+F6FK5H4f4/ZmZmZmZm/j89CtejcD32PwAAAAAAAAJACtejcD0K7z8AAAAAAAD4P3E9CtejcO0/MzMzMzMzBUCuR+F6FK7zP0jhehSuR+E/uB6F61G47j97FK5H4XrwPxSuR+F6FABASOF6FK5HAUAAAAAAAAAAQGZmZmZmZvY/j8L1KFyP+j+4HoXrUbgAQHsUrkfheuw/SOF6FK5H8T9SuB6F61EKQK5H4XoUrvs/uB6F61G47j+4HoXrUbj+PxSuR+F6FO4/hetRuB6F6z8zMzMzMzP7P3sUrkfheuw/AAAAAAAA8D8pXI/C9SjsPz0K16NwPeo/MzMzMzMz6z97FK5H4XoTQFK4HoXrUfw/",
          "dtype": "f8"
         },
         "yaxis": "y2"
        },
        {
         "mode": "lines",
         "name": "Predicted (Test)",
         "type": "scatter",
         "xaxis": "x2",
         "y": {
          "_inputArray": {
           "0": 1.2983447313308716,
           "1": 0.8913426995277405,
           "2": 1.4295974969863892,
           "3": 1.3664677143096924,
           "4": 1.0082207918167114,
           "5": 3.495922327041626,
           "6": 1.322035789489746,
           "7": 1.2212990522384644,
           "8": 1.042364239692688,
           "9": 0.47310248017311096,
           "10": 1.2913482189178467,
           "11": 2.5034234523773193,
           "12": 0.7962629795074463,
           "13": 0.980541467666626,
           "14": 2.983558416366577,
           "15": 1.7067991495132446,
           "16": 2.8399431705474854,
           "17": 5.007457733154297,
           "18": 2.8403453826904297,
           "19": 0.9435945749282837,
           "20": 1.4546009302139282,
           "21": 0.7937930822372437,
           "22": 0.9910856485366821,
           "23": 1.8804230690002441,
           "24": 1.8049837350845337,
           "25": 0.752843976020813,
           "26": 2.1688406467437744,
           "27": 1.2682729959487915,
           "28": 1.5968670845031738,
           "29": 1.3185981512069702,
           "30": 2.3578383922576904,
           "31": 1.4509626626968384,
           "32": 0.7554311156272888,
           "33": 1.4810872077941895,
           "34": 1.8968948125839233,
           "35": 2.181262969970703,
           "36": 2.307058095932007,
           "37": 0.9814618825912476,
           "38": 2.38545298576355,
           "39": 0.9035662412643433,
           "40": 1.9046732187271118,
           "41": 1.3335057497024536,
           "42": 1.5793546438217163,
           "43": 1.6227434873580933,
           "44": 0.9574829339981079,
           "45": 4.603701114654541,
           "46": 1.400719165802002,
           "47": 1.3495774269104004,
           "48": 4.009548187255859,
           "49": 1.0419758558273315,
           "50": 0.7744510769844055,
           "51": 1.3056026697158813,
           "52": 1.6416252851486206,
           "53": 1.5759321451187134,
           "54": 3.6956794261932373,
           "55": 1.1823241710662842,
           "56": 0.956800103187561,
           "57": 1.3024535179138184,
           "58": 1.5435175895690918,
           "59": 0.9467053413391113,
           "60": 2.1414332389831543,
           "61": 0.7486010193824768,
           "62": 2.0928659439086914,
           "63": 0.9975464344024658,
           "64": 1.9239901304244995,
           "65": 1.7442508935928345,
           "66": 1.814769983291626,
           "67": 1.5126475095748901,
           "68": 2.3576016426086426,
           "69": 1.2616695165634155,
           "70": 1.4822291135787964,
           "71": 1.1534147262573242,
           "72": 2.4341070652008057,
           "73": 1.221117377281189,
           "74": 0.7322731614112854,
           "75": 0.9647492170333862,
           "76": 1.0480376482009888,
           "77": 1.7914828062057495,
           "78": 2.267146348953247,
           "79": 2.663869619369507,
           "80": 1.21718168258667,
           "81": 1.4838398694992065,
           "82": 1.7936266660690308,
           "83": 0.9267082214355469,
           "84": 1.0428165197372437,
           "85": 2.2583916187286377,
           "86": 1.8856964111328125,
           "87": 0.9727667570114136,
           "88": 1.93984854221344,
           "89": 1.2773207426071167,
           "90": 0.845282256603241,
           "91": 2.3626492023468018,
           "92": 0.941132664680481,
           "93": 1.347106695175171,
           "94": 0.8023597598075867,
           "95": 0.8968849182128906,
           "96": 1.2854256629943848,
           "97": 3.3739068508148193,
           "98": 2.0727124214172363,
           "bdata": "KTCmPwkvZD8N/bY/auiuP2ENgT8xvV9AeDipP4dTnD8xbIU/fTryPuZKpT8XOCBA5NdLP8QEez+f8j5AZXjaP6HBNUAYPaBAOMg1QGqPcT9dMLo/BjZLP8q3fT+0sfA/tQnnP2K6QD9JzgpAxVaiPyRmzD/Tx6g/0+YWQCW5uT/vY0E/RJS9P3PN8j/QmQtA16YTQBZBez9DqxhAHlBnP1XM8z9RsKo/SyjKPw+2zz+aHXU/hVGTQMRKsz/0vqw/OE6AQHdfhT9tQkY//R2nP8cg0j8luMk/A4ZsQGZWlz/a8HQ/zLamP/yRxT9IW3I/Pg0JQFGkPz+E8QVANF9/P09F9j+dQ98/YkroP2+ewT/y4hZAY36hP6+5vT8Yo5M/acgbQJNNnD9Bdjs/zvl2Pxkmhj9PT+U/7RgRQNd8KkCczJs/d+69P4+V5T/APG0/A3uFP32JEECAXvE/Pgd5P/VM+D8/f6M/a2RYP6U1F0AS7nA//m2sP3NnTT9AmmU/1IikPxfuV0BSpwRA",
           "dtype": "f4",
           "shape": "99"
          },
          "bdata": "KTCmPwkvZD8N/bY/auiuP2ENgT8xvV9AeDipP4dTnD8xbIU/fTryPuZKpT8XOCBA5NdLP8QEez+f8j5AZXjaP6HBNUAYPaBAOMg1QGqPcT9dMLo/BjZLP8q3fT+0sfA/tQnnP2K6QD9JzgpAxVaiPyRmzD/Tx6g/0+YWQCW5uT/vY0E/RJS9P3PN8j/QmQtA16YTQBZBez9DqxhAHlBnP1XM8z9RsKo/SyjKPw+2zz+aHXU/hVGTQMRKsz/0vqw/OE6AQHdfhT9tQkY//R2nP8cg0j8luMk/A4ZsQGZWlz/a8HQ/zLamP/yRxT9IW3I/Pg0JQFGkPz+E8QVANF9/P09F9j+dQ98/YkroP2+ewT/y4hZAY36hP6+5vT8Yo5M/acgbQJNNnD9Bdjs/zvl2Pxkmhj9PT+U/7RgRQNd8KkCczJs/d+69P4+V5T/APG0/A3uFP32JEECAXvE/Pgd5P/VM+D8/f6M/a2RYP6U1F0AS7nA//m2sP3NnTT9AmmU/1IikPxfuV0BSpwRA",
          "dtype": "f4"
         },
         "yaxis": "y2"
        }
       ],
       "layout": {
        "annotations": [
         {
          "font": {
           "size": 16
          },
          "showarrow": false,
          "text": "Train Set",
          "x": 0.225,
          "xanchor": "center",
          "xref": "paper",
          "y": 1,
          "yanchor": "bottom",
          "yref": "paper"
         },
         {
          "font": {
           "size": 16
          },
          "showarrow": false,
          "text": "Test Set",
          "x": 0.775,
          "xanchor": "center",
          "xref": "paper",
          "y": 1,
          "yanchor": "bottom",
          "yref": "paper"
         }
        ],
        "height": 500,
        "template": {
         "data": {
          "bar": [
           {
            "error_x": {
             "color": "#2a3f5f"
            },
            "error_y": {
             "color": "#2a3f5f"
            },
            "marker": {
             "line": {
              "color": "#E5ECF6",
              "width": 0.5
             },
             "pattern": {
              "fillmode": "overlay",
              "size": 10,
              "solidity": 0.2
             }
            },
            "type": "bar"
           }
          ],
          "barpolar": [
           {
            "marker": {
             "line": {
              "color": "#E5ECF6",
              "width": 0.5
             },
             "pattern": {
              "fillmode": "overlay",
              "size": 10,
              "solidity": 0.2
             }
            },
            "type": "barpolar"
           }
          ],
          "carpet": [
           {
            "aaxis": {
             "endlinecolor": "#2a3f5f",
             "gridcolor": "white",
             "linecolor": "white",
             "minorgridcolor": "white",
             "startlinecolor": "#2a3f5f"
            },
            "baxis": {
             "endlinecolor": "#2a3f5f",
             "gridcolor": "white",
             "linecolor": "white",
             "minorgridcolor": "white",
             "startlinecolor": "#2a3f5f"
            },
            "type": "carpet"
           }
          ],
          "choropleth": [
           {
            "colorbar": {
             "outlinewidth": 0,
             "ticks": ""
            },
            "type": "choropleth"
           }
          ],
          "contour": [
           {
            "colorbar": {
             "outlinewidth": 0,
             "ticks": ""
            },
            "colorscale": [
             [
              0,
              "#0d0887"
             ],
             [
              0.1111111111111111,
              "#46039f"
             ],
             [
              0.2222222222222222,
              "#7201a8"
             ],
             [
              0.3333333333333333,
              "#9c179e"
             ],
             [
              0.4444444444444444,
              "#bd3786"
             ],
             [
              0.5555555555555556,
              "#d8576b"
             ],
             [
              0.6666666666666666,
              "#ed7953"
             ],
             [
              0.7777777777777778,
              "#fb9f3a"
             ],
             [
              0.8888888888888888,
              "#fdca26"
             ],
             [
              1,
              "#f0f921"
             ]
            ],
            "type": "contour"
           }
          ],
          "contourcarpet": [
           {
            "colorbar": {
             "outlinewidth": 0,
             "ticks": ""
            },
            "type": "contourcarpet"
           }
          ],
          "heatmap": [
           {
            "colorbar": {
             "outlinewidth": 0,
             "ticks": ""
            },
            "colorscale": [
             [
              0,
              "#0d0887"
             ],
             [
              0.1111111111111111,
              "#46039f"
             ],
             [
              0.2222222222222222,
              "#7201a8"
             ],
             [
              0.3333333333333333,
              "#9c179e"
             ],
             [
              0.4444444444444444,
              "#bd3786"
             ],
             [
              0.5555555555555556,
              "#d8576b"
             ],
             [
              0.6666666666666666,
              "#ed7953"
             ],
             [
              0.7777777777777778,
              "#fb9f3a"
             ],
             [
              0.8888888888888888,
              "#fdca26"
             ],
             [
              1,
              "#f0f921"
             ]
            ],
            "type": "heatmap"
           }
          ],
          "histogram": [
           {
            "marker": {
             "pattern": {
              "fillmode": "overlay",
              "size": 10,
              "solidity": 0.2
             }
            },
            "type": "histogram"
           }
          ],
          "histogram2d": [
           {
            "colorbar": {
             "outlinewidth": 0,
             "ticks": ""
            },
            "colorscale": [
             [
              0,
              "#0d0887"
             ],
             [
              0.1111111111111111,
              "#46039f"
             ],
             [
              0.2222222222222222,
              "#7201a8"
             ],
             [
              0.3333333333333333,
              "#9c179e"
             ],
             [
              0.4444444444444444,
              "#bd3786"
             ],
             [
              0.5555555555555556,
              "#d8576b"
             ],
             [
              0.6666666666666666,
              "#ed7953"
             ],
             [
              0.7777777777777778,
              "#fb9f3a"
             ],
             [
              0.8888888888888888,
              "#fdca26"
             ],
             [
              1,
              "#f0f921"
             ]
            ],
            "type": "histogram2d"
           }
          ],
          "histogram2dcontour": [
           {
            "colorbar": {
             "outlinewidth": 0,
             "ticks": ""
            },
            "colorscale": [
             [
              0,
              "#0d0887"
             ],
             [
              0.1111111111111111,
              "#46039f"
             ],
             [
              0.2222222222222222,
              "#7201a8"
             ],
             [
              0.3333333333333333,
              "#9c179e"
             ],
             [
              0.4444444444444444,
              "#bd3786"
             ],
             [
              0.5555555555555556,
              "#d8576b"
             ],
             [
              0.6666666666666666,
              "#ed7953"
             ],
             [
              0.7777777777777778,
              "#fb9f3a"
             ],
             [
              0.8888888888888888,
              "#fdca26"
             ],
             [
              1,
              "#f0f921"
             ]
            ],
            "type": "histogram2dcontour"
           }
          ],
          "mesh3d": [
           {
            "colorbar": {
             "outlinewidth": 0,
             "ticks": ""
            },
            "type": "mesh3d"
           }
          ],
          "parcoords": [
           {
            "line": {
             "colorbar": {
              "outlinewidth": 0,
              "ticks": ""
             }
            },
            "type": "parcoords"
           }
          ],
          "pie": [
           {
            "automargin": true,
            "type": "pie"
           }
          ],
          "scatter": [
           {
            "fillpattern": {
             "fillmode": "overlay",
             "size": 10,
             "solidity": 0.2
            },
            "type": "scatter"
           }
          ],
          "scatter3d": [
           {
            "line": {
             "colorbar": {
              "outlinewidth": 0,
              "ticks": ""
             }
            },
            "marker": {
             "colorbar": {
              "outlinewidth": 0,
              "ticks": ""
             }
            },
            "type": "scatter3d"
           }
          ],
          "scattercarpet": [
           {
            "marker": {
             "colorbar": {
              "outlinewidth": 0,
              "ticks": ""
             }
            },
            "type": "scattercarpet"
           }
          ],
          "scattergeo": [
           {
            "marker": {
             "colorbar": {
              "outlinewidth": 0,
              "ticks": ""
             }
            },
            "type": "scattergeo"
           }
          ],
          "scattergl": [
           {
            "marker": {
             "colorbar": {
              "outlinewidth": 0,
              "ticks": ""
             }
            },
            "type": "scattergl"
           }
          ],
          "scattermap": [
           {
            "marker": {
             "colorbar": {
              "outlinewidth": 0,
              "ticks": ""
             }
            },
            "type": "scattermap"
           }
          ],
          "scattermapbox": [
           {
            "marker": {
             "colorbar": {
              "outlinewidth": 0,
              "ticks": ""
             }
            },
            "type": "scattermapbox"
           }
          ],
          "scatterpolar": [
           {
            "marker": {
             "colorbar": {
              "outlinewidth": 0,
              "ticks": ""
             }
            },
            "type": "scatterpolar"
           }
          ],
          "scatterpolargl": [
           {
            "marker": {
             "colorbar": {
              "outlinewidth": 0,
              "ticks": ""
             }
            },
            "type": "scatterpolargl"
           }
          ],
          "scatterternary": [
           {
            "marker": {
             "colorbar": {
              "outlinewidth": 0,
              "ticks": ""
             }
            },
            "type": "scatterternary"
           }
          ],
          "surface": [
           {
            "colorbar": {
             "outlinewidth": 0,
             "ticks": ""
            },
            "colorscale": [
             [
              0,
              "#0d0887"
             ],
             [
              0.1111111111111111,
              "#46039f"
             ],
             [
              0.2222222222222222,
              "#7201a8"
             ],
             [
              0.3333333333333333,
              "#9c179e"
             ],
             [
              0.4444444444444444,
              "#bd3786"
             ],
             [
              0.5555555555555556,
              "#d8576b"
             ],
             [
              0.6666666666666666,
              "#ed7953"
             ],
             [
              0.7777777777777778,
              "#fb9f3a"
             ],
             [
              0.8888888888888888,
              "#fdca26"
             ],
             [
              1,
              "#f0f921"
             ]
            ],
            "type": "surface"
           }
          ],
          "table": [
           {
            "cells": {
             "fill": {
              "color": "#EBF0F8"
             },
             "line": {
              "color": "white"
             }
            },
            "header": {
             "fill": {
              "color": "#C8D4E3"
             },
             "line": {
              "color": "white"
             }
            },
            "type": "table"
           }
          ]
         },
         "layout": {
          "annotationdefaults": {
           "arrowcolor": "#2a3f5f",
           "arrowhead": 0,
           "arrowwidth": 1
          },
          "autotypenumbers": "strict",
          "coloraxis": {
           "colorbar": {
            "outlinewidth": 0,
            "ticks": ""
           }
          },
          "colorscale": {
           "diverging": [
            [
             0,
             "#8e0152"
            ],
            [
             0.1,
             "#c51b7d"
            ],
            [
             0.2,
             "#de77ae"
            ],
            [
             0.3,
             "#f1b6da"
            ],
            [
             0.4,
             "#fde0ef"
            ],
            [
             0.5,
             "#f7f7f7"
            ],
            [
             0.6,
             "#e6f5d0"
            ],
            [
             0.7,
             "#b8e186"
            ],
            [
             0.8,
             "#7fbc41"
            ],
            [
             0.9,
             "#4d9221"
            ],
            [
             1,
             "#276419"
            ]
           ],
           "sequential": [
            [
             0,
             "#0d0887"
            ],
            [
             0.1111111111111111,
             "#46039f"
            ],
            [
             0.2222222222222222,
             "#7201a8"
            ],
            [
             0.3333333333333333,
             "#9c179e"
            ],
            [
             0.4444444444444444,
             "#bd3786"
            ],
            [
             0.5555555555555556,
             "#d8576b"
            ],
            [
             0.6666666666666666,
             "#ed7953"
            ],
            [
             0.7777777777777778,
             "#fb9f3a"
            ],
            [
             0.8888888888888888,
             "#fdca26"
            ],
            [
             1,
             "#f0f921"
            ]
           ],
           "sequentialminus": [
            [
             0,
             "#0d0887"
            ],
            [
             0.1111111111111111,
             "#46039f"
            ],
            [
             0.2222222222222222,
             "#7201a8"
            ],
            [
             0.3333333333333333,
             "#9c179e"
            ],
            [
             0.4444444444444444,
             "#bd3786"
            ],
            [
             0.5555555555555556,
             "#d8576b"
            ],
            [
             0.6666666666666666,
             "#ed7953"
            ],
            [
             0.7777777777777778,
             "#fb9f3a"
            ],
            [
             0.8888888888888888,
             "#fdca26"
            ],
            [
             1,
             "#f0f921"
            ]
           ]
          },
          "colorway": [
           "#636efa",
           "#EF553B",
           "#00cc96",
           "#ab63fa",
           "#FFA15A",
           "#19d3f3",
           "#FF6692",
           "#B6E880",
           "#FF97FF",
           "#FECB52"
          ],
          "font": {
           "color": "#2a3f5f"
          },
          "geo": {
           "bgcolor": "white",
           "lakecolor": "white",
           "landcolor": "#E5ECF6",
           "showlakes": true,
           "showland": true,
           "subunitcolor": "white"
          },
          "hoverlabel": {
           "align": "left"
          },
          "hovermode": "closest",
          "mapbox": {
           "style": "light"
          },
          "paper_bgcolor": "white",
          "plot_bgcolor": "#E5ECF6",
          "polar": {
           "angularaxis": {
            "gridcolor": "white",
            "linecolor": "white",
            "ticks": ""
           },
           "bgcolor": "#E5ECF6",
           "radialaxis": {
            "gridcolor": "white",
            "linecolor": "white",
            "ticks": ""
           }
          },
          "scene": {
           "xaxis": {
            "backgroundcolor": "#E5ECF6",
            "gridcolor": "white",
            "gridwidth": 2,
            "linecolor": "white",
            "showbackground": true,
            "ticks": "",
            "zerolinecolor": "white"
           },
           "yaxis": {
            "backgroundcolor": "#E5ECF6",
            "gridcolor": "white",
            "gridwidth": 2,
            "linecolor": "white",
            "showbackground": true,
            "ticks": "",
            "zerolinecolor": "white"
           },
           "zaxis": {
            "backgroundcolor": "#E5ECF6",
            "gridcolor": "white",
            "gridwidth": 2,
            "linecolor": "white",
            "showbackground": true,
            "ticks": "",
            "zerolinecolor": "white"
           }
          },
          "shapedefaults": {
           "line": {
            "color": "#2a3f5f"
           }
          },
          "ternary": {
           "aaxis": {
            "gridcolor": "white",
            "linecolor": "white",
            "ticks": ""
           },
           "baxis": {
            "gridcolor": "white",
            "linecolor": "white",
            "ticks": ""
           },
           "bgcolor": "#E5ECF6",
           "caxis": {
            "gridcolor": "white",
            "linecolor": "white",
            "ticks": ""
           }
          },
          "title": {
           "x": 0.05
          },
          "xaxis": {
           "automargin": true,
           "gridcolor": "white",
           "linecolor": "white",
           "ticks": "",
           "title": {
            "standoff": 15
           },
           "zerolinecolor": "white",
           "zerolinewidth": 2
          },
          "yaxis": {
           "automargin": true,
           "gridcolor": "white",
           "linecolor": "white",
           "ticks": "",
           "title": {
            "standoff": 15
           },
           "zerolinecolor": "white",
           "zerolinewidth": 2
          }
         }
        },
        "title": {
         "text": "Actual vs Predicted - SeismicFoS ANN Model"
        },
        "width": 1000,
        "xaxis": {
         "anchor": "y",
         "autorange": true,
         "domain": [
          0,
          0.45
         ],
         "range": [
          0,
          394
         ]
        },
        "xaxis2": {
         "anchor": "y2",
         "autorange": true,
         "domain": [
          0.55,
          1
         ],
         "range": [
          0,
          98
         ]
        },
        "yaxis": {
         "anchor": "x",
         "autorange": true,
         "domain": [
          0,
          1
         ],
         "range": [
          0.07277777777777777,
          8.417222222222222
         ],
         "type": "linear"
        },
        "yaxis2": {
         "anchor": "x2",
         "autorange": true,
         "domain": [
          0,
          1
         ],
         "range": [
          0.15271928462717266,
          6.560383195545938
         ],
         "type": "linear"
        }
       }
      },
      "image/png": "[encoded data removed]"
     },
     "metadata": {},
     "output_type": "display_data"
    },
    {
     "data": {
      "application/vnd.plotly.v1+json": {
       "config": {
        "plotlyServerURL": "https://plot.ly"
       },
       "data": [
        {
         "name": "Train",
         "type": "bar",
         "x": [
          "R²",
          "RMSE",
          "MAE"
         ],
         "y": [
          0.9445965094820857,
          0.2055672637351754,
          0.13124703780910638
         ]
        },
        {
         "name": "Test",
         "type": "bar",
         "x": [
          "R²",
          "RMSE",
          "MAE"
         ],
         "y": [
          0.7734628394552756,
          0.44689040338017244,
          0.2712656378625619
         ]
        }
       ],
       "layout": {
        "barmode": "group",
        "height": 400,
        "template": {
         "data": {
          "bar": [
           {
            "error_x": {
             "color": "#2a3f5f"
            },
            "error_y": {
             "color": "#2a3f5f"
            },
            "marker": {
             "line": {
              "color": "#E5ECF6",
              "width": 0.5
             },
             "pattern": {
              "fillmode": "overlay",
              "size": 10,
              "solidity": 0.2
             }
            },
            "type": "bar"
           }
          ],
          "barpolar": [
           {
            "marker": {
             "line": {
              "color": "#E5ECF6",
              "width": 0.5
             },
             "pattern": {
              "fillmode": "overlay",
              "size": 10,
              "solidity": 0.2
             }
            },
            "type": "barpolar"
           }
          ],
          "carpet": [
           {
            "aaxis": {
             "endlinecolor": "#2a3f5f",
             "gridcolor": "white",
             "linecolor": "white",
             "minorgridcolor": "white",
             "startlinecolor": "#2a3f5f"
            },
            "baxis": {
             "endlinecolor": "#2a3f5f",
             "gridcolor": "white",
             "linecolor": "white",
             "minorgridcolor": "white",
             "startlinecolor": "#2a3f5f"
            },
            "type": "carpet"
           }
          ],
          "choropleth": [
           {
            "colorbar": {
             "outlinewidth": 0,
             "ticks": ""
            },
            "type": "choropleth"
           }
          ],
          "contour": [
           {
            "colorbar": {
             "outlinewidth": 0,
             "ticks": ""
            },
            "colorscale": [
             [
              0,
              "#0d0887"
             ],
             [
              0.1111111111111111,
              "#46039f"
             ],
             [
              0.2222222222222222,
              "#7201a8"
             ],
             [
              0.3333333333333333,
              "#9c179e"
             ],
             [
              0.4444444444444444,
              "#bd3786"
             ],
             [
              0.5555555555555556,
              "#d8576b"
             ],
             [
              0.6666666666666666,
              "#ed7953"
             ],
             [
              0.7777777777777778,
              "#fb9f3a"
             ],
             [
              0.8888888888888888,
              "#fdca26"
             ],
             [
              1,
              "#f0f921"
             ]
            ],
            "type": "contour"
           }
          ],
          "contourcarpet": [
           {
            "colorbar": {
             "outlinewidth": 0,
             "ticks": ""
            },
            "type": "contourcarpet"
           }
          ],
          "heatmap": [
           {
            "colorbar": {
             "outlinewidth": 0,
             "ticks": ""
            },
            "colorscale": [
             [
              0,
              "#0d0887"
             ],
             [
              0.1111111111111111,
              "#46039f"
             ],
             [
              0.2222222222222222,
              "#7201a8"
             ],
             [
              0.3333333333333333,
              "#9c179e"
             ],
             [
              0.4444444444444444,
              "#bd3786"
             ],
             [
              0.5555555555555556,
              "#d8576b"
             ],
             [
              0.6666666666666666,
              "#ed7953"
             ],
             [
              0.7777777777777778,
              "#fb9f3a"
             ],
             [
              0.8888888888888888,
              "#fdca26"
             ],
             [
              1,
              "#f0f921"
             ]
            ],
            "type": "heatmap"
           }
          ],
          "histogram": [
           {
            "marker": {
             "pattern": {
              "fillmode": "overlay",
              "size": 10,
              "solidity": 0.2
             }
            },
            "type": "histogram"
           }
          ],
          "histogram2d": [
           {
            "colorbar": {
             "outlinewidth": 0,
             "ticks": ""
            },
            "colorscale": [
             [
              0,
              "#0d0887"
             ],
             [
              0.1111111111111111,
              "#46039f"
             ],
             [
              0.2222222222222222,
              "#7201a8"
             ],
             [
              0.3333333333333333,
              "#9c179e"
             ],
             [
              0.4444444444444444,
              "#bd3786"
             ],
             [
              0.5555555555555556,
              "#d8576b"
             ],
             [
              0.6666666666666666,
              "#ed7953"
             ],
             [
              0.7777777777777778,
              "#fb9f3a"
             ],
             [
              0.8888888888888888,
              "#fdca26"
             ],
             [
              1,
              "#f0f921"
             ]
            ],
            "type": "histogram2d"
           }
          ],
          "histogram2dcontour": [
           {
            "colorbar": {
             "outlinewidth": 0,
             "ticks": ""
            },
            "colorscale": [
             [
              0,
              "#0d0887"
             ],
             [
              0.1111111111111111,
              "#46039f"
             ],
             [
              0.2222222222222222,
              "#7201a8"
             ],
             [
              0.3333333333333333,
              "#9c179e"
             ],
             [
              0.4444444444444444,
              "#bd3786"
             ],
             [
              0.5555555555555556,
              "#d8576b"
             ],
             [
              0.6666666666666666,
              "#ed7953"
             ],
             [
              0.7777777777777778,
              "#fb9f3a"
             ],
             [
              0.8888888888888888,
              "#fdca26"
             ],
             [
              1,
              "#f0f921"
             ]
            ],
            "type": "histogram2dcontour"
           }
          ],
          "mesh3d": [
           {
            "colorbar": {
             "outlinewidth": 0,
             "ticks": ""
            },
            "type": "mesh3d"
           }
          ],
          "parcoords": [
           {
            "line": {
             "colorbar": {
              "outlinewidth": 0,
              "ticks": ""
             }
            },
            "type": "parcoords"
           }
          ],
          "pie": [
           {
            "automargin": true,
            "type": "pie"
           }
          ],
          "scatter": [
           {
            "fillpattern": {
             "fillmode": "overlay",
             "size": 10,
             "solidity": 0.2
            },
            "type": "scatter"
           }
          ],
          "scatter3d": [
           {
            "line": {
             "colorbar": {
              "outlinewidth": 0,
              "ticks": ""
             }
            },
            "marker": {
             "colorbar": {
              "outlinewidth": 0,
              "ticks": ""
             }
            },
            "type": "scatter3d"
           }
          ],
          "scattercarpet": [
           {
            "marker": {
             "colorbar": {
              "outlinewidth": 0,
              "ticks": ""
             }
            },
            "type": "scattercarpet"
           }
          ],
          "scattergeo": [
           {
            "marker": {
             "colorbar": {
              "outlinewidth": 0,
              "ticks": ""
             }
            },
            "type": "scattergeo"
           }
          ],
          "scattergl": [
           {
            "marker": {
             "colorbar": {
              "outlinewidth": 0,
              "ticks": ""
             }
            },
            "type": "scattergl"
           }
          ],
          "scattermap": [
           {
            "marker": {
             "colorbar": {
              "outlinewidth": 0,
              "ticks": ""
             }
            },
            "type": "scattermap"
           }
          ],
          "scattermapbox": [
           {
            "marker": {
             "colorbar": {
              "outlinewidth": 0,
              "ticks": ""
             }
            },
            "type": "scattermapbox"
           }
          ],
          "scatterpolar": [
           {
            "marker": {
             "colorbar": {
              "outlinewidth": 0,
              "ticks": ""
             }
            },
            "type": "scatterpolar"
           }
          ],
          "scatterpolargl": [
           {
            "marker": {
             "colorbar": {
              "outlinewidth": 0,
              "ticks": ""
             }
            },
            "type": "scatterpolargl"
           }
          ],
          "scatterternary": [
           {
            "marker": {
             "colorbar": {
              "outlinewidth": 0,
              "ticks": ""
             }
            },
            "type": "scatterternary"
           }
          ],
          "surface": [
           {
            "colorbar": {
             "outlinewidth": 0,
             "ticks": ""
            },
            "colorscale": [
             [
              0,
              "#0d0887"
             ],
             [
              0.1111111111111111,
              "#46039f"
             ],
             [
              0.2222222222222222,
              "#7201a8"
             ],
             [
              0.3333333333333333,
              "#9c179e"
             ],
             [
              0.4444444444444444,
              "#bd3786"
             ],
             [
              0.5555555555555556,
              "#d8576b"
             ],
             [
              0.6666666666666666,
              "#ed7953"
             ],
             [
              0.7777777777777778,
              "#fb9f3a"
             ],
             [
              0.8888888888888888,
              "#fdca26"
             ],
             [
              1,
              "#f0f921"
             ]
            ],
            "type": "surface"
           }
          ],
          "table": [
           {
            "cells": {
             "fill": {
              "color": "#EBF0F8"
             },
             "line": {
              "color": "white"
             }
            },
            "header": {
             "fill": {
              "color": "#C8D4E3"
             },
             "line": {
              "color": "white"
             }
            },
            "type": "table"
           }
          ]
         },
         "layout": {
          "annotationdefaults": {
           "arrowcolor": "#2a3f5f",
           "arrowhead": 0,
           "arrowwidth": 1
          },
          "autotypenumbers": "strict",
          "coloraxis": {
           "colorbar": {
            "outlinewidth": 0,
            "ticks": ""
           }
          },
          "colorscale": {
           "diverging": [
            [
             0,
             "#8e0152"
            ],
            [
             0.1,
             "#c51b7d"
            ],
            [
             0.2,
             "#de77ae"
            ],
            [
             0.3,
             "#f1b6da"
            ],
            [
             0.4,
             "#fde0ef"
            ],
            [
             0.5,
             "#f7f7f7"
            ],
            [
             0.6,
             "#e6f5d0"
            ],
            [
             0.7,
             "#b8e186"
            ],
            [
             0.8,
             "#7fbc41"
            ],
            [
             0.9,
             "#4d9221"
            ],
            [
             1,
             "#276419"
            ]
           ],
           "sequential": [
            [
             0,
             "#0d0887"
            ],
            [
             0.1111111111111111,
             "#46039f"
            ],
            [
             0.2222222222222222,
             "#7201a8"
            ],
            [
             0.3333333333333333,
             "#9c179e"
            ],
            [
             0.4444444444444444,
             "#bd3786"
            ],
            [
             0.5555555555555556,
             "#d8576b"
            ],
            [
             0.6666666666666666,
             "#ed7953"
            ],
            [
             0.7777777777777778,
             "#fb9f3a"
            ],
            [
             0.8888888888888888,
             "#fdca26"
            ],
            [
             1,
             "#f0f921"
            ]
           ],
           "sequentialminus": [
            [
             0,
             "#0d0887"
            ],
            [
             0.1111111111111111,
             "#46039f"
            ],
            [
             0.2222222222222222,
             "#7201a8"
            ],
            [
             0.3333333333333333,
             "#9c179e"
            ],
            [
             0.4444444444444444,
             "#bd3786"
            ],
            [
             0.5555555555555556,
             "#d8576b"
            ],
            [
             0.6666666666666666,
             "#ed7953"
            ],
            [
             0.7777777777777778,
             "#fb9f3a"
            ],
            [
             0.8888888888888888,
             "#fdca26"
            ],
            [
             1,
             "#f0f921"
            ]
           ]
          },
          "colorway": [
           "#636efa",
           "#EF553B",
           "#00cc96",
           "#ab63fa",
           "#FFA15A",
           "#19d3f3",
           "#FF6692",
           "#B6E880",
           "#FF97FF",
           "#FECB52"
          ],
          "font": {
           "color": "#2a3f5f"
          },
          "geo": {
           "bgcolor": "white",
           "lakecolor": "white",
           "landcolor": "#E5ECF6",
           "showlakes": true,
           "showland": true,
           "subunitcolor": "white"
          },
          "hoverlabel": {
           "align": "left"
          },
          "hovermode": "closest",
          "mapbox": {
           "style": "light"
          },
          "paper_bgcolor": "white",
          "plot_bgcolor": "#E5ECF6",
          "polar": {
           "angularaxis": {
            "gridcolor": "white",
            "linecolor": "white",
            "ticks": ""
           },
           "bgcolor": "#E5ECF6",
           "radialaxis": {
            "gridcolor": "white",
            "linecolor": "white",
            "ticks": ""
           }
          },
          "scene": {
           "xaxis": {
            "backgroundcolor": "#E5ECF6",
            "gridcolor": "white",
            "gridwidth": 2,
            "linecolor": "white",
            "showbackground": true,
            "ticks": "",
            "zerolinecolor": "white"
           },
           "yaxis": {
            "backgroundcolor": "#E5ECF6",
            "gridcolor": "white",
            "gridwidth": 2,
            "linecolor": "white",
            "showbackground": true,
            "ticks": "",
            "zerolinecolor": "white"
           },
           "zaxis": {
            "backgroundcolor": "#E5ECF6",
            "gridcolor": "white",
            "gridwidth": 2,
            "linecolor": "white",
            "showbackground": true,
            "ticks": "",
            "zerolinecolor": "white"
           }
          },
          "shapedefaults": {
           "line": {
            "color": "#2a3f5f"
           }
          },
          "ternary": {
           "aaxis": {
            "gridcolor": "white",
            "linecolor": "white",
            "ticks": ""
           },
           "baxis": {
            "gridcolor": "white",
            "linecolor": "white",
            "ticks": ""
           },
           "bgcolor": "#E5ECF6",
           "caxis": {
            "gridcolor": "white",
            "linecolor": "white",
            "ticks": ""
           }
          },
          "title": {
           "x": 0.05
          },
          "xaxis": {
           "automargin": true,
           "gridcolor": "white",
           "linecolor": "white",
           "ticks": "",
           "title": {
            "standoff": 15
           },
           "zerolinecolor": "white",
           "zerolinewidth": 2
          },
          "yaxis": {
           "automargin": true,
           "gridcolor": "white",
           "linecolor": "white",
           "ticks": "",
           "title": {
            "standoff": 15
           },
           "zerolinecolor": "white",
           "zerolinewidth": 2
          }
         }
        },
        "title": {
         "text": "Performance Metrics (Train vs Test) - SeismicFoS"
        },
        "width": 800,
        "xaxis": {
         "autorange": true,
         "range": [
          -0.5,
          2.5
         ],
         "type": "category"
        },
        "yaxis": {
         "autorange": true,
         "range": [
          0,
          0.9943121152443007
         ],
         "type": "linear"
        }
       }
      },
      "image/png": "[encoded data removed]"
     },
     "metadata": {},
     "output_type": "display_data"
    }
   ],
   "source": [
    "import os\n",
    "import pandas as pd\n",
    "import numpy as np\n",
    "import torch\n",
    "import torch.nn as nn\n",
    "import random\n",
    "from torch.utils.data import DataLoader, TensorDataset\n",
    "from sklearn.model_selection import train_test_split\n",
    "from sklearn.preprocessing import StandardScaler\n",
    "from sklearn.metrics import r2_score, mean_squared_error, mean_absolute_error\n",
    "import plotly.graph_objs as go\n",
    "from plotly.subplots import make_subplots\n",
    "\n",
    "# === Save Directory for Plots\n",
    "output_dir = r\"C:\\Users\\vishn\\OneDrive\\Documents\\Machine Learning\\ANN_simple\\base_ANN\"\n",
    "os.makedirs(output_dir, exist_ok=True)\n",
    "\n",
    "# === Set random seed for reproducibility\n",
    "def set_seed(seed=42):\n",
    "    random.seed(seed)\n",
    "    np.random.seed(seed)\n",
    "    torch.manual_seed(seed)\n",
    "    torch.backends.cudnn.deterministic = True\n",
    "    torch.backends.cudnn.benchmark = False\n",
    "\n",
    "set_seed(42)\n",
    "\n",
    "# === Load and preprocess dataset\n",
    "df = pd.read_csv(r\"C:\\Users\\vishn\\OneDrive\\Documents\\Machine Learning\\Vishnu_phd.csv\")\n",
    "X = df.drop(columns=[\"FoS\", \"SeismicFoS\"]).values\n",
    "y = df[\"SeismicFoS\"].values  # ✅ Changed to SeismicFoS\n",
    "\n",
    "# Train-test split\n",
    "X_train, X_test, y_train, y_test = train_test_split(X, y, test_size=0.2, random_state=42)\n",
    "scaler = StandardScaler()\n",
    "X_train = scaler.fit_transform(X_train)\n",
    "X_test = scaler.transform(X_test)\n",
    "\n",
    "# Convert to PyTorch tensors\n",
    "X_train_tensor = torch.tensor(X_train, dtype=torch.float32)\n",
    "y_train_tensor = torch.tensor(y_train, dtype=torch.float32).view(-1, 1)\n",
    "X_test_tensor = torch.tensor(X_test, dtype=torch.float32)\n",
    "y_test_tensor = torch.tensor(y_test, dtype=torch.float32).view(-1, 1)\n",
    "\n",
    "train_dataset = TensorDataset(X_train_tensor, y_train_tensor)\n",
    "train_loader = DataLoader(train_dataset, batch_size=32, shuffle=True)\n",
    "\n",
    "# === Define the ANN Model\n",
    "class ANN(nn.Module):\n",
    "    def __init__(self, input_dim, h1, h2, h3):\n",
    "        super(ANN, self).__init__()\n",
    "        self.model = nn.Sequential(\n",
    "            nn.Linear(input_dim, h1), nn.ReLU(),\n",
    "            nn.Linear(h1, h2), nn.ReLU(),\n",
    "            nn.Linear(h2, h3), nn.ReLU(),\n",
    "            nn.Linear(h3, 1)\n",
    "        )\n",
    "    def forward(self, x):\n",
    "        return self.model(x)\n",
    "\n",
    "# === Evaluation Function\n",
    "def evaluate_model(h1, h2, h3, lr):\n",
    "    model = ANN(X_train.shape[1], h1, h2, h3)\n",
    "    criterion = nn.MSELoss()\n",
    "    optimizer = torch.optim.Adam(model.parameters(), lr=lr)\n",
    "\n",
    "    # Training\n",
    "    for epoch in range(100):\n",
    "        model.train()\n",
    "        for xb, yb in train_loader:\n",
    "            optimizer.zero_grad()\n",
    "            pred = model(xb)\n",
    "            loss = criterion(pred, yb)\n",
    "            loss.backward()\n",
    "            optimizer.step()\n",
    "\n",
    "    # Evaluation\n",
    "    model.eval()\n",
    "    with torch.no_grad():\n",
    "        y_train_pred = model(X_train_tensor).numpy()\n",
    "        y_test_pred = model(X_test_tensor).numpy()\n",
    "\n",
    "    return {\n",
    "        \"r2_train\": r2_score(y_train, y_train_pred),\n",
    "        \"r2_test\": r2_score(y_test, y_test_pred),\n",
    "        \"rmse_train\": np.sqrt(mean_squared_error(y_train, y_train_pred)),\n",
    "        \"mae_train\": mean_absolute_error(y_train, y_train_pred),\n",
    "        \"rmse_test\": np.sqrt(mean_squared_error(y_test, y_test_pred)),\n",
    "        \"mae_test\": mean_absolute_error(y_test, y_test_pred),\n",
    "        \"y_train_pred\": y_train_pred,\n",
    "        \"y_test_pred\": y_test_pred\n",
    "    }\n",
    "\n",
    "# === Run Evaluation\n",
    "params = (64, 32, 16, 0.001)  # (h1, h2, h3, learning_rate)\n",
    "results = evaluate_model(*params)\n",
    "\n",
    "# === Print Results\n",
    "print(f\"\\n📊 ANN Evaluation for SeismicFoS with Architecture {params[:3]} and LR = {params[3]}\")\n",
    "print(f\"R² (Train): {results['r2_train']:.6f}\")\n",
    "print(f\"R² (Test):  {results['r2_test']:.6f}\")\n",
    "print(f\"RMSE (Train): {results['rmse_train']:.6f}\")\n",
    "print(f\"RMSE (Test):  {results['rmse_test']:.6f}\")\n",
    "print(f\"MAE (Train): {results['mae_train']:.6f}\")\n",
    "print(f\"MAE (Test):  {results['mae_test']:.6f}\")\n",
    "\n",
    "# === Plot 1: Actual vs Predicted (Train & Test)\n",
    "fig1 = make_subplots(rows=1, cols=2, subplot_titles=[\"Train Set\", \"Test Set\"])\n",
    "fig1.add_trace(go.Scatter(y=y_train, mode='lines', name='Actual (Train)'), row=1, col=1)\n",
    "fig1.add_trace(go.Scatter(y=results[\"y_train_pred\"].flatten(), mode='lines', name='Predicted (Train)'), row=1, col=1)\n",
    "fig1.add_trace(go.Scatter(y=y_test, mode='lines', name='Actual (Test)'), row=1, col=2)\n",
    "fig1.add_trace(go.Scatter(y=results[\"y_test_pred\"].flatten(), mode='lines', name='Predicted (Test)'), row=1, col=2)\n",
    "fig1.update_layout(title_text=\"Actual vs Predicted - SeismicFoS ANN Model\", height=500, width=1000)\n",
    "fig1.write_html(os.path.join(output_dir, \"seismicfos_actual_vs_predicted.html\"))\n",
    "fig1.show()\n",
    "\n",
    "# === Plot 2: Bar Chart Comparison of Metrics\n",
    "fig2 = go.Figure()\n",
    "fig2.add_trace(go.Bar(name='Train', x=['R²', 'RMSE', 'MAE'],\n",
    "                      y=[results[\"r2_train\"], results[\"rmse_train\"], results[\"mae_train\"]]))\n",
    "fig2.add_trace(go.Bar(name='Test', x=['R²', 'RMSE', 'MAE'],\n",
    "                      y=[results[\"r2_test\"], results[\"rmse_test\"], results[\"mae_test\"]]))\n",
    "fig2.update_layout(barmode='group', title=\"Performance Metrics (Train vs Test) - SeismicFoS\", height=400, width=800)\n",
    "fig2.write_html(os.path.join(output_dir, \"seismicfos_metrics_comparison.html\"))\n",
    "fig2.show()\n"
   ]
  }
 ],
 "metadata": {
  "kernelspec": {
   "display_name": ".venv",
   "language": "python",
   "name": "python3"
  },
  "language_info": {
   "codemirror_mode": {
    "name": "ipython",
    "version": 3
   },
   "file_extension": ".py",
   "mimetype": "text/x-python",
   "name": "python",
   "nbconvert_exporter": "python",
   "pygments_lexer": "ipython3",
   "version": "3.13.5"
  }
 },
 "nbformat": 4,
 "nbformat_minor": 5
}
